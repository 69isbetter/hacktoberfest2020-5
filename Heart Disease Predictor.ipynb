
import numpy as np
import matplotlib.pyplot as plt
%matplotlib inline
import seaborn as sns

data=pd.read_csv("heart.csv")
from sklearn.model_selection import train_test_split
x=data.drop(columns=['target']).values
y=data.target.values
x_train,x_test,y_train,y_test=train_test_split(x,y,test_size=0.2,random_state=1)

from sklearn.ensemble import RandomForestClassifier
rfc=RandomForestClassifier(n_estimators=100)
rfc.fit(x_train,y_train)

from tkinter import *
from tkinter.ttk import * 
import tkinter as tk
from functools import partial
import  tkinter.font as font


def cal(age,sex,cp,restbps,chol,fbs,thalach,exang,slope,oldpeak,restecg,ca,nfr):
    b=(age.get())
    c=(sex.get())
    d=(cp.get())
    e=(restbps.get())
    f=(chol.get())
    g=(fbs.get())
    h=(thalach.get())
    i=(exang.get())
    j=(slope.get())
    k=(oldpeak.get())
    l=(restecg.get())
    m=(ca.get())
    n=(nfr.get())
    num1=int(b)
    num2=int(c)
    num3=int(d)
    num4=int(e)
    num5=int(f)
    num6=int(g)
    num7=int(h)
    num8=int(i)
    num9=int(j)
    num10=float(k)
    num11=int(l)
    num12=int(m)
    num13=int(n)
    
    input=[[num1,num2,num3,num4,num5,num6,num7,num8,num9,num10,num11,num12,num13]]
    y_pred=rfc.predict(input)
    if y_pred==1:
        risk_lable=tk.Label(top,text="HIGH ",fg="red",font=(None,15)).place(x=860,y=400)
    else:
        risk_label=tk.Label(top,text="LESS",fg="green",font=(None,15)).place(x=860,y=400)
    return

  
class GFG: 
    def __init__(self, master = None): 
        self.master = master 
  
        # Calls create method of class GFG 
        self.create() 
  
    def create(self): 
  
        # This creates a object of class canvas 
        self.canvas = Canvas(self.master) 
  
        # This creates a line of length 200 (straight horizontal line) 
        self.canvas.create_line(420, 60, 420, 550) 
        self.canvas.create_line(5,60, 1100, 60) 
  
      
          
        # This pack the canvas to the main window and make it expandable 
        self.canvas.pack(fill = BOTH, expand = True) 
  
if __name__ == "__main__": 
    top=tk.Tk()
    geeks = GFG(top) 
    top.geometry('1100x550+100+60')
    top.title("Heart Disease Predictor")
    myfont=font.Font(size=30)
    
    
    age1=tk.StringVar()
    sex2=tk.StringVar()
    cp3=tk.StringVar()
    restbps4=tk.StringVar()
    chol5=tk.StringVar()
    fbs6=tk.StringVar()
    thalach7=tk.StringVar()
    exang8=tk.StringVar()
    slope9=tk.StringVar()
    oldpeak10=tk.StringVar()
    restecg11=tk.StringVar()
    ca12=tk.StringVar()
    nfr13=tk.StringVar()
    
    
    #label=tk.LabelFrame(top,text="Heart Disease Predictor",font=(None, 20,)).pack(fill="both",expand="yes")
    label_top=tk.Label(top,text="Heart Disease Predictor",font=(None,25),fg="red").place(x=400,y=10)
    l1=tk.Label(top,text="1. Age",fg="blue",font=("Courier",10)).place(x=10,y=100)
    l2=tk.Label(top,text="2. Sex(male=1/female=0)",fg="blue",font=("Courier",10)).place(x=10,y=120)
    l3=tk.Label(top,text="3. Chest pain(cp)",fg="blue",font=("Courier",10)).place(x=10,y=140)
    l4=tk.Label(top,text="4. Resting blood pressure(restbps)",fg="blue",font=("Courier",10)).place(x=10,y=160)
    l5=tk.Label(top,text="5. Serum cholestoral(chol)",fg="blue",font=("Courier",10)).place(x=10,y=180)
    l6=tk.Label(top,text="6. Fasting blood sugar(fbs) ",fg="blue",font=("Courier",10)).place(x=10,y=200)
    l7=tk.Label(top,text="7. Maximum heart rate achieved(thalach) ",fg="blue",font=("Courier",10)).place(x=10,y=220)
    l8=tk.Label(top,text="8. Exercise induced angina(exang)",fg="blue",font=("Courier",10)).place(x=10,y=240)
    l9=tk.Label(top,text="9. Exercise ST segment(slope)",fg="blue",font=("Courier",10)).place(x=10,y=260)
    l10=tk.Label(top,text="10. Exercise relative to rest(oldpeak)",fg="blue",font=("Courier",10)).place(x=10,y=280)
    l11=tk.Label(top,text="11. Number of major vessels(ca)",fg="blue",font=("Courier",10)).place(x=10,y=300)
    l12=tk.Label(top,text="12. Electrocardiographic results(restECG)",fg="blue",font=("Courier",10)).place(x=10,y=320)
    l13=tk.Label(top,text="13. Normal(1),Fixed defect(2)",fg="blue",font=("Courier",10)).place(x=10,y=340)
    l14=tk.Label(top,text="    Reversable defect(3)(NFR)",fg="blue",font=("Courier",10)).place(x=10,y=360)
    
    risk=tk.Label(top,text="Risk : ",fg="red",font=(None,15)).place(x=800,y=400)
        
    age=tk.Label(top,text="Age",fg="black",font=(None,13)).place(x=440,y=100)
    ageE=tk.Entry(top,textvariable=age1).place(x=520,y=100,height=30,width=100)
    
    
    cp=tk.Label(top,text="Cp",fg="black",font=(None,13)).place(x=440,y=140)
    cpE=tk.Entry(top,textvariable=cp3).place(x=520,y=140,height=30,width=100)

    restbps=tk.Label(top,text="Restbps",fg="black",font=(None,13)).place(x=440,y=180)
    restbpsE=tk.Entry(top,textvariable=restbps4).place(x=520,y=180,height=30,width=100)
    
    chol=tk.Label(top,text="Chol",fg="black",font=(None,13)).place(x=440,y=340)
    cholE=tk.Entry(top,textvariable=chol5).place(x=520,y=340,height=30,width=100)

    fbs=tk.Label(top,text="Fbs",fg="black",font=(None,13)).place(x=440,y=220)
    fbsE=tk.Entry(top,textvariable=fbs6).place(x=520,y=220,height=30,width=100)
    
    thalach=tk.Label(top,text="Thalach",fg="black",font=(None,13)).place(x=440,y=260)
    thalachE=tk.Entry(top,textvariable=thalach7).place(x=520,y=260,height=30,width=100)

    sex=tk.Label(top,text="Sex",fg="black",font=(None,13)).place(x=440,y=300)
    sexE=tk.Entry(top,textvariable=sex2).place(x=520,y=300,height=30,width=100)
    
    exang=tk.Label(top,text="Exang",fg="black",font=(None,13)).place(x=800,y=100)
    exangE=tk.Entry(top,textvariable=exang8).place(x=900,y=100,height=30,width=100)
    
    slope=tk.Label(top,text="Slope",fg="black",font=(None,13)).place(x=800,y=140)
    slopeE=tk.Entry(top,textvariable=slope9).place(x=900,y=140,height=30,width=100)

    oldpeak=tk.Label(top,text="Oldpeak",fg="black",font=(None,13)).place(x=800,y=180)
    oldpeakE=tk.Entry(top,textvariable=oldpeak10).place(x=900,y=180,height=30,width=100)
    
    ca=tk.Label(top,text="Ca",fg="black",font=(None,13)).place(x=800,y=220)
    caE=tk.Entry(top,textvariable=ca12).place(x=900,y=220,height=30,width=100)

    restEcg=tk.Label(top,text="RestECG",fg="black",font=(None,13)).place(x=800,y=260)
    restEcgE=tk.Entry(top,textvariable=restecg11).place(x=900,y=260,height=30,width=100)
    
    nfr=tk.Label(top,text="NFR",fg="black",font=(None,13)).place(x=800,y=300)
    nfrE=tk.Entry(top,textvariable=nfr13).place(x=900,y=300,height=30,width=100)
                      
            ## making partial function
    cal=partial(cal,age1,sex2,cp3,restbps4,chol5,fbs6,thalach7,exang8,slope9,oldpeak10,restecg11,ca12,nfr13)
                      

    submit=tk.Button(top,text="Submit",font=(None,12),fg="white",bg="blue",activeforeground="black",activebackground="orange",command=cal).place(x=440,y=400)

    
    top.mainloop()
